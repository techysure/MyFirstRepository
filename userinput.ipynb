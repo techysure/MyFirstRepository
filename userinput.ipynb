{
 "cells": [
  {
   "cell_type": "code",
   "execution_count": 2,
   "metadata": {},
   "outputs": [
    {
     "name": "stdout",
     "output_type": "stream",
     "text": [
      "Enter Name:Suresh\n",
      "Enter age:23\n",
      "Panimalr\n",
      "Enter DepartmentECE\n",
      "Name: Suresh\n",
      "age 23\n",
      "College Name: Panimalr\n",
      "Department: ECE\n"
     ]
    }
   ],
   "source": [
    "name=input(\"Enter Name:\")\n",
    "age=int(input(\"Enter age:\")) #by default input is a string so need to define the type explixitly\n",
    "colleg =input()\n",
    "department=input(\"Enter Department\")\n",
    "print(\"Name:\",name)\n",
    "print(\"age\",age)\n",
    "print(\"College Name:\",colleg)\n",
    "print(\"Department:\",department)\n"
   ]
  },
  {
   "cell_type": "code",
   "execution_count": 1,
   "metadata": {},
   "outputs": [
    {
     "name": "stdout",
     "output_type": "stream",
     "text": [
      "enter nameSuresh\n",
      "Enter Age23\n",
      "Enter CTC50000\n",
      "Name is: Suresh\n",
      "Age is: 23\n",
      "Salary is 50000\n",
      "The type of Name: <class 'str'>\n",
      "The type of salary is: <class 'str'>\n",
      "The type of age is: <class 'int'>\n"
     ]
    }
   ],
   "source": [
    "# input() by default is a string type, define it to int to convert a strin to int\n",
    "name=input(\"enter name\")\n",
    "age=int(input(\"Enter Age\"))\n",
    "salary=input(\"Enter CTC\")\n",
    "print(\"Name is:\", name)\n",
    "print(\"Age is:\", age)\n",
    "print(\"Salary is\", salary)\n",
    "print(\"The type of Name:\",type(name))\n",
    "print(\"The type of salary is:\",type(salary))\n",
    "print(\"The type of age is:\",type(age))\n"
   ]
  },
  {
   "cell_type": "code",
   "execution_count": 11,
   "metadata": {},
   "outputs": [
    {
     "name": "stdout",
     "output_type": "stream",
     "text": [
      "Enter name, age and collegeSuresh 23 Panimalar\n",
      "Student name is: Suresh\n",
      "Student age is: 23\n",
      "Student College is: Panimalar\n"
     ]
    }
   ],
   "source": [
    "# split\n",
    "name,age,collage=input(\"Enter name, age and college\").split() # only string input is possible\n",
    "print(\"Student name is:\",name)\n",
    "print(\"Student age is:\",age)\n",
    "print(\"Student College is:\",collage)\n"
   ]
  },
  {
   "cell_type": "code",
   "execution_count": 35,
   "metadata": {},
   "outputs": [
    {
     "name": "stdout",
     "output_type": "stream",
     "text": [
      "sureka,chitra,chaitanya and Kireeti are friends.\n",
      "Kireeti,chaitanya,chitra and sureka are friends.\n",
      "sureka and chitra are friends\n",
      "chitra and sureka are friends\n"
     ]
    }
   ],
   "source": [
    "#string formatting\n",
    "name1 = \"sureka\"\n",
    "name2 = \"chitra\"\n",
    "name3 = \"chaitanya\"\n",
    "name4 = \"Kireeti\"\n",
    "print(\"{},{},{} and {} are friends.\".format(name1,name2,name3,name4))\n",
    "print(\"{3},{2},{1} and {0} are friends.\".format(name1,name2,name3,name4))\n",
    "print(\"{fname} and {lastname} are friends\".format(fname=name1, lastname=name2))\n",
    "print(\"{lastname} and {fname} are friends\".format(fname=name1, lastname=name2))"
   ]
  },
  {
   "cell_type": "code",
   "execution_count": 33,
   "metadata": {},
   "outputs": [
    {
     "name": "stdout",
     "output_type": "stream",
     "text": [
      "sureka              \n",
      "                                           Kireeti\n",
      "                                                                                               chaitanya                                                                                                \n",
      "Left Justification: sureka                                                                                    \n",
      "Right Justification: Kireeti                       \n",
      "Center Justification: chaitanya                                                   \n",
      "Left Justification: sureka************************************************************************************\n",
      "Right Justification: ***********************Kireeti\n",
      "Center Justification: *************************chaitanya**************************\n"
     ]
    }
   ],
   "source": [
    "# text alighnment :< - left, :> right and  :^ center alighnment\n",
    "name1 = \"sureka\"\n",
    "name2 = \"Kireeti\"\n",
    "name3 = \"chaitanya\"\n",
    "print(\"{:<20}\".format(name1))\n",
    "print('{:>50}'.format(name2))\n",
    "print('{:^200}'.format(name3))\n",
    "\n",
    "print(\"Left Justification:\", name1.ljust(90))\n",
    "print(\"Right Justification:\", name2.ljust(30))\n",
    "print(\"Center Justification:\", name3.ljust(60))\n",
    "\n",
    "print(\"Left Justification:\", name1.ljust(90,\"*\"))\n",
    "print(\"Right Justification:\", name2.rjust(30,\"*\"))\n",
    "print(\"Center Justification:\", name3.center(60,\"*\"))\n",
    "\n"
   ]
  },
  {
   "cell_type": "code",
   "execution_count": 41,
   "metadata": {},
   "outputs": [
    {
     "name": "stdout",
     "output_type": "stream",
     "text": [
      "Enter number1234.67237263\n",
      "Output number is 1234.672373\n",
      "Output number is 1234.67237\n",
      "Output number is 1.234672e+03\n",
      "Output number is 1.234672E+03\n"
     ]
    }
   ],
   "source": [
    "# number formating\n",
    "number = float(input(\"Enter number\"))\n",
    "print(\"Output number is {:f}\".format(number))\n",
    "print(\"Output number is {:.5f}\".format(number))\n",
    "print(\"Output number is {:e}\".format(number))\n",
    "print(\"Output number is {:E}\".format(number))\n"
   ]
  },
  {
   "cell_type": "code",
   "execution_count": 24,
   "metadata": {},
   "outputs": [
    {
     "name": "stdout",
     "output_type": "stream",
     "text": [
      "Friends name is sureka,siva,sid\n",
      "Friends name is sads,asdsd,asasd\n",
      "The result is 234.00000\n",
      "The result is sureka                                  \n",
      "The result is                                                       sureka\n",
      "The result is                                                sureka                                               \n",
      "The result is of ljust  sureka************************\n",
      "The result is rjust ******************************************************sureka\n",
      "The result is center ***********************************************sureka***********************************************\n",
      "The name is sureka, siva\n"
     ]
    }
   ],
   "source": [
    "name = 'sureka'\n",
    "name1 = 'siva'\n",
    "name2 = \"sid\"\n",
    "result = 234%254\n",
    "print ((\"Friends name is {},{},{}\").format(name, name1, name2))\n",
    "print ((\"Friends name is {name1},{name2},{name}\").format(name=\"asasd\", name1=\"sads\", name2=\"asdsd\"))\n",
    "print ( \"The result is {:6.5f}\".format(result))\n",
    "print ( \"The result is {:<40}\".format(name))\n",
    "print ( \"The result is {:>60}\".format(name))\n",
    "print ( \"The result is {:^100}\".format(name))\n",
    "print ( \"The result is of ljust \",name.ljust(30,\"*\"))\n",
    "print ( \"The result is rjust\",name.rjust(60,\"*\"))\n",
    "print ( \"The result is center\",name.center(100,\"*\"))\n",
    "print(f\"The name is {name}, {name1}\")\n",
    "\n"
   ]
  },
  {
   "cell_type": "code",
   "execution_count": 28,
   "metadata": {},
   "outputs": [
    {
     "name": "stdout",
     "output_type": "stream",
     "text": [
      "Python rules!\n",
      "Python {r}\n"
     ]
    },
    {
     "ename": "AttributeError",
     "evalue": "'NoneType' object has no attribute 'format'",
     "output_type": "error",
     "traceback": [
      "\u001b[1;31m---------------------------------------------------------------------------\u001b[0m",
      "\u001b[1;31mAttributeError\u001b[0m                            Traceback (most recent call last)",
      "\u001b[1;32m<ipython-input-28-c7e97359cb44>\u001b[0m in \u001b[0;36m<module>\u001b[1;34m\u001b[0m\n\u001b[0;32m      1\u001b[0m \u001b[0mprint\u001b[0m\u001b[1;33m(\u001b[0m\u001b[1;34m\"Python %s\"\u001b[0m \u001b[1;33m%\u001b[0m\u001b[1;34m'rules!'\u001b[0m\u001b[1;33m)\u001b[0m\u001b[1;33m\u001b[0m\u001b[1;33m\u001b[0m\u001b[0m\n\u001b[1;32m----> 2\u001b[1;33m \u001b[0mprint\u001b[0m\u001b[1;33m(\u001b[0m\u001b[1;34m\"Python {r}\"\u001b[0m\u001b[1;33m)\u001b[0m\u001b[1;33m.\u001b[0m\u001b[0mformat\u001b[0m\u001b[1;33m(\u001b[0m\u001b[0mr\u001b[0m\u001b[1;33m=\u001b[0m\u001b[1;34m\"rules!\"\u001b[0m\u001b[1;33m)\u001b[0m\u001b[1;33m\u001b[0m\u001b[1;33m\u001b[0m\u001b[0m\n\u001b[0m",
      "\u001b[1;31mAttributeError\u001b[0m: 'NoneType' object has no attribute 'format'"
     ]
    }
   ],
   "source": [
    "print(\"Python %s\" %'rules!')\n",
    "print(\"Python {r}\").format(r=\"rules!\")"
   ]
  },
  {
   "cell_type": "code",
   "execution_count": 36,
   "metadata": {},
   "outputs": [
    {
     "name": "stdout",
     "output_type": "stream",
     "text": [
      "Python rules!\n"
     ]
    }
   ],
   "source": [
    "print(\"Python {r}\".format(r='rules!'))\n",
    "\n"
   ]
  },
  {
   "cell_type": "code",
   "execution_count": null,
   "metadata": {},
   "outputs": [],
   "source": []
  }
 ],
 "metadata": {
  "kernelspec": {
   "display_name": "Python 3",
   "language": "python",
   "name": "python3"
  },
  "language_info": {
   "codemirror_mode": {
    "name": "ipython",
    "version": 3
   },
   "file_extension": ".py",
   "mimetype": "text/x-python",
   "name": "python",
   "nbconvert_exporter": "python",
   "pygments_lexer": "ipython3",
   "version": "3.8.3"
  }
 },
 "nbformat": 4,
 "nbformat_minor": 4
}
