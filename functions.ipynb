{
 "cells": [
  {
   "cell_type": "code",
   "execution_count": 4,
   "metadata": {},
   "outputs": [
    {
     "data": {
      "text/plain": [
       "4"
      ]
     },
     "execution_count": 4,
     "metadata": {},
     "output_type": "execute_result"
    }
   ],
   "source": [
    "#function\n",
    "def mul(num):\n",
    "    return (num*2)\n",
    "\n",
    "mul(2)\n"
   ]
  },
  {
   "cell_type": "code",
   "execution_count": 6,
   "metadata": {},
   "outputs": [
    {
     "name": "stdout",
     "output_type": "stream",
     "text": [
      "Welcome to Python World\n"
     ]
    }
   ],
   "source": [
    "#function to print a string\n",
    "def welcom():\n",
    "    print(\"Welcome to Python World\")\n",
    "    \n",
    "#calling a function:\n",
    "welcom()\n"
   ]
  },
  {
   "cell_type": "code",
   "execution_count": 8,
   "metadata": {},
   "outputs": [
    {
     "data": {
      "text/plain": [
       "'Calling a function'"
      ]
     },
     "execution_count": 8,
     "metadata": {},
     "output_type": "execute_result"
    }
   ],
   "source": [
    "\n",
    "def welcom(statement):\n",
    "    \"function to print a string\"\n",
    "    return statement\n",
    "    \n",
    "#calling a function:\n",
    "welcom(\"Calling a function\")"
   ]
  },
  {
   "cell_type": "code",
   "execution_count": 34,
   "metadata": {},
   "outputs": [
    {
     "name": "stdout",
     "output_type": "stream",
     "text": [
      "my list outside function [6, 7, 8, 9]\n",
      "my list inside function [6, 7, 8, 9, [1, 2, 3, 4]]\n"
     ]
    }
   ],
   "source": [
    "#function pass byreference\n",
    "\n",
    "def newlist(mylist):\n",
    "    mylist.append([1,2,3,4])\n",
    "    print(\"my list inside function\",mylist)\n",
    "\n",
    "#call the function\n",
    "\n",
    "mylist=[6,7,8,9]\n",
    "print(\"my list outside function\",mylist)\n",
    "newlist(mylist)\n",
    "\n",
    "\n",
    "\n"
   ]
  },
  {
   "cell_type": "code",
   "execution_count": 37,
   "metadata": {},
   "outputs": [
    {
     "name": "stdout",
     "output_type": "stream",
     "text": [
      "my list outside function [1, 2, 3, 4]\n",
      "my list inside function [1, 2, 0, 4]\n"
     ]
    }
   ],
   "source": [
    "#function pass by reference\n",
    "\n",
    "def holiday(lstofnum):\n",
    "    lstofnum[2]=0\n",
    "    print(\"my list inside function\",lstofnum)\n",
    "    \n",
    "lstofnum=[1,2,3,4]\n",
    "print(\"my list outside function\",lstofnum)\n",
    "holiday(lstofnum)\n",
    "\n",
    "\n",
    "\n"
   ]
  },
  {
   "cell_type": "code",
   "execution_count": 5,
   "metadata": {},
   "outputs": [
    {
     "name": "stdout",
     "output_type": "stream",
     "text": [
      "my list inside function [1, 2, 3, 0]\n",
      "list outside function [6, 7, 8, 9]\n"
     ]
    }
   ],
   "source": [
    "#function pass by value\n",
    "\n",
    "def mynumlist(lstofnum):\n",
    "    lstofnum= [1,2,3,4]\n",
    "    lstofnum[3]=0\n",
    "    print(\"my list inside function\",lstofnum)\n",
    "    \n",
    "lstofnum=[6,7,8,9]\n",
    "mynumlist(lstofnum)\n",
    "print(\"list outside function\", lstofnum)\n"
   ]
  },
  {
   "cell_type": "code",
   "execution_count": 43,
   "metadata": {},
   "outputs": [
    {
     "name": "stdout",
     "output_type": "stream",
     "text": [
      "The addded num is: 9\n"
     ]
    }
   ],
   "source": [
    "#Req argument\n",
    "\n",
    "def addnum(a,b):\n",
    "    print(\"The addded num is:\", a+b)\n",
    "    return \n",
    "\n",
    "addnum(5,4)"
   ]
  },
  {
   "cell_type": "code",
   "execution_count": 6,
   "metadata": {},
   "outputs": [
    {
     "name": "stdout",
     "output_type": "stream",
     "text": [
      "Emp name is: sure\n",
      "Emp age is: ece\n",
      "Emp course is: 21\n",
      "Emp name is: sure\n",
      "Emp age is: 21\n",
      "Emp course is: python\n"
     ]
    }
   ],
   "source": [
    "# keyword arg\n",
    "\n",
    "def persondata(name,age,course):\n",
    "    print(\"Emp name is:\", name)\n",
    "    print(\"Emp age is:\", age)\n",
    "    print(\"Emp course is:\", course)\n",
    "    return\n",
    "\n",
    "persondata(\"sure\",\"ece\",21)\n",
    "persondata(age=21,name=\"sure\",course=\"python\")\n",
    "    \n",
    "\n"
   ]
  },
  {
   "cell_type": "code",
   "execution_count": 57,
   "metadata": {},
   "outputs": [
    {
     "name": "stdout",
     "output_type": "stream",
     "text": [
      "Emp name is: Keerthi\n",
      "Emp age is: 20\n",
      "Emp course is: Python\n",
      "Emp gender is: Male\n",
      "**************\n",
      "Emp name is: Chaitanya\n",
      "Emp age is: 20\n",
      "Emp course is: Python\n",
      "Emp gender is: Male\n",
      "**************\n",
      "Emp name is: sureka\n",
      "Emp age is: 30\n",
      "Emp course is: Python\n",
      "Emp gender is: female\n"
     ]
    }
   ],
   "source": [
    "#default arg\n",
    "\n",
    "def persondata(name,age,course=\"Python\",gender=\"Male\"):\n",
    "    print(\"Emp name is:\", name)\n",
    "    print(\"Emp age is:\", age)\n",
    "    print(\"Emp course is:\", course)\n",
    "    print(\"Emp gender is:\", gender)\n",
    "    return\n",
    "\n",
    "persondata(name=\"Keerthi\",age=20)\n",
    "print(\"**************\")\n",
    "persondata(name=\"Chaitanya\",age=20)\n",
    "print(\"**************\")\n",
    "persondata(name=\"sureka\",age =30, gender=\"female\")\n"
   ]
  },
  {
   "cell_type": "code",
   "execution_count": 11,
   "metadata": {},
   "outputs": [
    {
     "name": "stdout",
     "output_type": "stream",
     "text": [
      "2\n",
      "(3, 2, 123, 123, 132)\n",
      "3\n",
      "2\n",
      "123\n",
      "123\n",
      "132\n",
      "asdsad\n",
      "('asdasd', 'asdj jadjas dkjadkjad')\n",
      "asdasd\n",
      "asdj jadjas dkjadkjad\n"
     ]
    }
   ],
   "source": [
    "#var length argument\n",
    "\n",
    "def number(arg1,*vtup):\n",
    "    print(arg1)\n",
    "    print(vtup)\n",
    "    for v in vtup:\n",
    "        print(v)\n",
    "\n",
    "number(2,3,2,123,123,132)\n",
    "number(\"asdsad\",\"asdasd\",\"asdj jadjas dkjadkjad\")\n",
    "\n"
   ]
  },
  {
   "cell_type": "code",
   "execution_count": 66,
   "metadata": {},
   "outputs": [
    {
     "name": "stdout",
     "output_type": "stream",
     "text": [
      "14\n"
     ]
    }
   ],
   "source": [
    "#anonymous function\n",
    "s=lambda a,b,c:a*b+c\n",
    "print(s(4,3,2))"
   ]
  },
  {
   "cell_type": "code",
   "execution_count": 68,
   "metadata": {},
   "outputs": [],
   "source": [
    "def addandreturn(a,b,c):\n",
    "    s=a+b+c\n",
    "    return s\n",
    "addandreturn(1,1,1)\n"
   ]
  },
  {
   "cell_type": "code",
   "execution_count": 15,
   "metadata": {},
   "outputs": [
    {
     "name": "stdout",
     "output_type": "stream",
     "text": [
      "Am outside and local: Welcome\n",
      "Inside: to all\n",
      "I am everywhere as I am global\n"
     ]
    }
   ],
   "source": [
    "#Local and Global variable\n",
    "\n",
    "localvar = \"Am outside and local: Welcome\"\n",
    "globalvar = \"I am everywhere as I am global\"\n",
    "\n",
    "def testvar():\n",
    "    localvar = \"to all\"\n",
    "    print(\"Inside:\",localvar)\n",
    "    print(globalvar)\n",
    "    \n",
    "print(localvar)\n",
    "testvar()\n",
    "\n",
    "\n"
   ]
  },
  {
   "cell_type": "code",
   "execution_count": 5,
   "metadata": {},
   "outputs": [
    {
     "name": "stdout",
     "output_type": "stream",
     "text": [
      "Enter any one choice Add/Sub/Mul/Mod/Div:hyr\n",
      "Read carefully and type a appropriate choice\n",
      "    Note:Options are case sensitive\n"
     ]
    }
   ],
   "source": [
    "# Prg to Add, Mul, Sub, Div and Mod\n",
    "\n",
    "def add(num1,num2):\n",
    "    ans = num1+num2\n",
    "    print(\"Sum of two numbers is:\",ans)\n",
    "    \n",
    "\n",
    "def sub(num1,num2):\n",
    "    if (num1>num2):\n",
    "        ans = num1-num2\n",
    "        print(\"Sub of two numbers is:\",ans)\n",
    "    else:\n",
    "        ans = num2-num1\n",
    "        print(\"Sub of two numbers is:\",ans)\n",
    "\n",
    "def div(num1,num2):\n",
    "    if num2==0:\n",
    "        print (\"Division by Zero is not valid, enter right number\")\n",
    "    else:\n",
    "        ans = num1/num2\n",
    "        print(\"Div of two numbers is:\",ans)\n",
    "        \n",
    "\n",
    "def mul(num1,num2):\n",
    "    ans = num1*num2\n",
    "    print(\"Mul of two numbers is:\",ans)\n",
    "    \n",
    "\n",
    "def mod(num1,num2):\n",
    "    if num2==0:\n",
    "        print (\"Modulo by Zero is not valid, enter right number\")\n",
    "    else:\n",
    "        ans = num1%num2\n",
    "        print(\"Mod of two numbers is:\",ans)\n",
    "        \n",
    "mathofnum =input(\"Enter any one choice Add/Sub/Mul/Mod/Div:\")\n",
    "\n",
    "if (mathofnum =='Add') or (mathofnum =='Sub') or (mathofnum =='Mul') or (mathofnum =='Mod') or(mathofnum =='Div'):\n",
    "    \n",
    "    num1 = int(input(\"Enter Number1:\"))\n",
    "    num2 = int(input(\"Enter Number2:\"))\n",
    "\n",
    "    if (mathofnum==\"Add\"):\n",
    "        add(num1,num2)\n",
    "    elif(mathofnum==\"Sub\"):\n",
    "        sub(num1,num2)    \n",
    "    elif(mathofnum==\"Div\"):\n",
    "        div(num1,num2)\n",
    "    elif(mathofnum==\"Mul\"):\n",
    "        mul(num1,num2)    \n",
    "    elif(mathofnum==\"Mod\"):\n",
    "        mod(num1,num2)\n",
    "    \n",
    "else:\n",
    "    print(\n",
    "    '''Read carefully and type a appropriate choice\n",
    "    Note:Options are case sensitive''')\n"
   ]
  },
  {
   "cell_type": "code",
   "execution_count": 12,
   "metadata": {},
   "outputs": [
    {
     "name": "stdout",
     "output_type": "stream",
     "text": [
      "acegik\n",
      "dgj\n",
      "bcd\n",
      "abcdefghijk\n"
     ]
    }
   ],
   "source": [
    "#string Indexing start:stop:skip\n",
    "\n",
    "text = \"abcdefghijk\"\n",
    "print(text[0:15:2]) #(skip 1)\n",
    "print(text[3:12:3])  # (skip 2)\n",
    "print(text[1:4])\n",
    "print(text[::])\n",
    "#ans dgj\n",
    "\n"
   ]
  },
  {
   "cell_type": "code",
   "execution_count": null,
   "metadata": {},
   "outputs": [],
   "source": []
  },
  {
   "cell_type": "code",
   "execution_count": 6,
   "metadata": {},
   "outputs": [
    {
     "name": "stdout",
     "output_type": "stream",
     "text": [
      "Before calling g: Hamburg\n",
      "Calling g now:\n",
      "After calling g: Hamburg\n",
      "Value of city in main: Geneva\n"
     ]
    }
   ],
   "source": [
    "def f():\n",
    "    # local to def f\n",
    "    city = \"Hamburg\"\n",
    "    def g():\n",
    "        global city\n",
    "# global variable      \n",
    "city = \"Geneva\"        \n",
    "print(\"Before calling g: \" + city)\n",
    "print(\"Calling g now:\")\n",
    "g()\n",
    "print(\"After calling g: \" + city)\n",
    "    \n",
    "f()\n",
    "print(\"Value of city in main: \" + city)"
   ]
  },
  {
   "cell_type": "code",
   "execution_count": null,
   "metadata": {},
   "outputs": [],
   "source": [
    "#Global and Local non local\n",
    "def f():\n",
    "    global s\n",
    "    print(s)\n",
    "    s = \"Only in spring, but London is great as well!\"\n",
    "    print(s)\n",
    "\n",
    "\n",
    "s = \"I am looking for a course in Paris!\" \n",
    "f()\n",
    "print(s)"
   ]
  }
 ],
 "metadata": {
  "kernelspec": {
   "display_name": "Python 3",
   "language": "python",
   "name": "python3"
  },
  "language_info": {
   "codemirror_mode": {
    "name": "ipython",
    "version": 3
   },
   "file_extension": ".py",
   "mimetype": "text/x-python",
   "name": "python",
   "nbconvert_exporter": "python",
   "pygments_lexer": "ipython3",
   "version": "3.8.3"
  }
 },
 "nbformat": 4,
 "nbformat_minor": 4
}
