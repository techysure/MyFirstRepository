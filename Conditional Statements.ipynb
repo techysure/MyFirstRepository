{
 "cells": [
  {
   "cell_type": "code",
   "execution_count": 8,
   "metadata": {},
   "outputs": [
    {
     "name": "stdout",
     "output_type": "stream",
     "text": [
      "A is greater 100\n",
      "A is greater\n"
     ]
    }
   ],
   "source": [
    "a=100\n",
    "b=30\n",
    "c=40\n",
    "print(\"A is greater\", a) if a>b else print(\"B is greater\",b) \n",
    "if a>b or a==c:\n",
    "    print(\"A is greater\")\n",
    "\n",
    "    "
   ]
  },
  {
   "cell_type": "code",
   "execution_count": 8,
   "metadata": {},
   "outputs": [
    {
     "name": "stdout",
     "output_type": "stream",
     "text": [
      "enter a number:300\n",
      "above fifty\n",
      "and also greater than 100!\n"
     ]
    }
   ],
   "source": [
    "#nested if else\n",
    "x = int(input(\"enter a number:\"))\n",
    "if x>50:\n",
    "    print(\"above fifty\")\n",
    "    if x >= 100:\n",
    "        print(\"and also greater than 100!\")\n",
    "else:\n",
    "    print(\"Not above 50\")\n",
    "    \n"
   ]
  },
  {
   "cell_type": "code",
   "execution_count": null,
   "metadata": {},
   "outputs": [],
   "source": [
    "\n"
   ]
  },
  {
   "cell_type": "code",
   "execution_count": null,
   "metadata": {},
   "outputs": [],
   "source": []
  }
 ],
 "metadata": {
  "kernelspec": {
   "display_name": "Python 3",
   "language": "python",
   "name": "python3"
  },
  "language_info": {
   "codemirror_mode": {
    "name": "ipython",
    "version": 3
   },
   "file_extension": ".py",
   "mimetype": "text/x-python",
   "name": "python",
   "nbconvert_exporter": "python",
   "pygments_lexer": "ipython3",
   "version": "3.8.3"
  }
 },
 "nbformat": 4,
 "nbformat_minor": 4
}
