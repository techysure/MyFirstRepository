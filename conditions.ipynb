{
 "cells": [
  {
   "cell_type": "code",
   "execution_count": 1,
   "metadata": {},
   "outputs": [
    {
     "name": "stdout",
     "output_type": "stream",
     "text": [
      "Enter your age:17\n",
      "Not Eligible to vote\n"
     ]
    }
   ],
   "source": [
    "#Eligibility to vote\n",
    "voters_age = int(input(\"Enter your age:\"))\n",
    "Eligible_age = 18\n",
    "if (voters_age >18) or (voters_age ==18):\n",
    "    print(\"Voter is Eligible to vote\")\n",
    "else:\n",
    "    print(\"Not Eligible to vote\")\n"
   ]
  },
  {
   "cell_type": "code",
   "execution_count": 5,
   "metadata": {},
   "outputs": [
    {
     "name": "stdout",
     "output_type": "stream",
     "text": [
      "Enter math mark: 100\n",
      "Enter Science mark: 20\n",
      "Enter CSC mark: 30\n",
      "Maths is highest score\n"
     ]
    }
   ],
   "source": [
    "#Highest score in subjSects\n",
    "maths_marks = int(input(\"Enter math mark: \"))\n",
    "science_marks = int(input(\"Enter Science mark: \"))\n",
    "CSC_marks = int(input(\"Enter CSC mark: \"))\n",
    "if (maths_marks == 100) and (science_marks == 100)and (CSC_marks == 100):\n",
    "    print(\"All subject topper\")\n",
    "    \n",
    "if  (maths_marks==science_marks==CSC_marks):\n",
    "    print(\"All subject equal marks\")\n",
    "    \n",
    "if (maths_marks>science_marks and maths_marks>CSC_marks) or (maths_marks == 100):\n",
    "    print(\"Maths is highest score\")\n",
    "    \n",
    "if  (science_marks>maths_marks and science_marks>CSC_marks) or (science_marks == 100):\n",
    "    print(\"Science is highest score\")\n",
    "    \n",
    "if  (CSC_marks>science_marks and CSC_marks>maths_marks) or (CSC_marks == 100):\n",
    "    print(\"CSC is highest score\")\n",
    "    \n",
    "\n",
    "    \n",
    "\n",
    "                \n"
   ]
  },
  {
   "cell_type": "code",
   "execution_count": 8,
   "metadata": {},
   "outputs": [
    {
     "name": "stdout",
     "output_type": "stream",
     "text": [
      "Enter a number:100\n",
      "Enter another number:50\n",
      "They are not equal\n",
      "Number1 is even number\n"
     ]
    }
   ],
   "source": [
    "# if else\n",
    "number1 = int(input(\"Enter a number:\"))\n",
    "number2 = int(input(\"Enter another number:\"))\n",
    "if (number1==number2):\n",
    "    print(\"number1 and number2 are equal\")\n",
    "else:\n",
    "    print(\"They are not equal\")\n",
    "if (number1%2!=0):\n",
    "    print(\"Number1 is odd number\")\n",
    "else:\n",
    "    print(\"Number1 is even number\")\n",
    "    \n",
    "\n",
    "\n",
    "\n"
   ]
  },
  {
   "cell_type": "code",
   "execution_count": 13,
   "metadata": {},
   "outputs": [
    {
     "name": "stdout",
     "output_type": "stream",
     "text": [
      "Enter a number1:30\n",
      "Enter a number2:30\n",
      "Enter a number3:20\n",
      "Num3 is largest: 20\n"
     ]
    }
   ],
   "source": [
    "#largest of 3 number\n",
    "num1 = int(input(\"Enter a number1:\"))\n",
    "num2 = int(input(\"Enter a number2:\"))\n",
    "num3 = int(input(\"Enter a number3:\"))\n",
    "if(num1>=num2) and (num1>=num3):\n",
    "    print(\"Num1 is largest\", num1)\n",
    "elif(num2>=num1) and (num2>=num3):\n",
    "    print(\"Num2 is largest\", num2)\n",
    "elif(num1==num2==num3):\n",
    "    print(\"All are equal numbers\")\n",
    "else:\n",
    "    print(\"Num3 is largest:\", num3)\n",
    "\n",
    "    \n",
    "    \n",
    "   "
   ]
  },
  {
   "cell_type": "markdown",
   "metadata": {},
   "source": [
    "\n",
    "\n",
    "\n",
    "\n",
    "    \n"
   ]
  },
  {
   "cell_type": "code",
   "execution_count": 12,
   "metadata": {},
   "outputs": [
    {
     "name": "stdout",
     "output_type": "stream",
     "text": [
      "Enter num1 8\n",
      "Enter num2 8\n",
      "Enter num3 7\n",
      "Num1 and Num2 is greater and equal number\n"
     ]
    }
   ],
   "source": [
    "#Biggest of 3 numbers\n",
    "\n",
    "num1 = int(input(\"Enter num1 \"))\n",
    "num2 = int(input(\"Enter num2 \"))\n",
    "num3 = int(input(\"Enter num3 \"))\n",
    "\n",
    "if (num1>num2 and num1>num3):\n",
    "    print(\"Greater number is:\", num1)\n",
    "    \n",
    "elif (num1==num2) and (num1>num3):\n",
    "    print(\"Num1 and Num2 is greater and equal number\") \n",
    "    \n",
    "elif (num1==num3) and (num1>num2):\n",
    "    print(\"Num2 and Num3 is greater and equal number\") \n",
    "    \n",
    "elif (num2>num3 and num2>num1):\n",
    "    print(\"Num2 is Greater number:\",num2)\n",
    "    \n",
    "elif (num2==num1) and (num2>num3):\n",
    "    print(\"Num2 and Num1 is greater and equal number\") \n",
    "    \n",
    "elif (num2==num3) and (num2>num1):\n",
    "    print(\"Num2 and Num3 is greater and equal number\") \n",
    "\n",
    "elif (num3>num2 and num3>num1):\n",
    "    print(\"Num3 is Greater number:\", num3)\n",
    "    \n",
    "elif (num3==num1) and (num3>num2):\n",
    "    print(\"Num3 and Num1 is greater and equal number\") \n",
    "    \n",
    "elif (num3==num2) and (num3>num1):\n",
    "    print(\"Num3 and Num2 is greater and equal number\") \n",
    "    \n",
    "else:\n",
    "    print(\"All are equal\")\n",
    "    \n",
    "\n",
    "   "
   ]
  },
  {
   "cell_type": "code",
   "execution_count": 9,
   "metadata": {},
   "outputs": [
    {
     "data": {
      "text/plain": [
       "['I a', ' i', ' a, sad', '']"
      ]
     },
     "execution_count": 9,
     "metadata": {},
     "output_type": "execute_result"
    }
   ],
   "source": [
    "x = \"Welcome to the world\"\n",
    "y =\"I am im a, sadm\"\n",
    "y.split('m')\n",
    "\n",
    "\n",
    "    \n"
   ]
  },
  {
   "cell_type": "code",
   "execution_count": null,
   "metadata": {},
   "outputs": [],
   "source": []
  }
 ],
 "metadata": {
  "kernelspec": {
   "display_name": "Python 3",
   "language": "python",
   "name": "python3"
  },
  "language_info": {
   "codemirror_mode": {
    "name": "ipython",
    "version": 3
   },
   "file_extension": ".py",
   "mimetype": "text/x-python",
   "name": "python",
   "nbconvert_exporter": "python",
   "pygments_lexer": "ipython3",
   "version": "3.8.3"
  }
 },
 "nbformat": 4,
 "nbformat_minor": 4
}
