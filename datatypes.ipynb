{
 "cells": [
  {
   "cell_type": "code",
   "execution_count": 15,
   "metadata": {},
   "outputs": [
    {
     "name": "stdout",
     "output_type": "stream",
     "text": [
      "python 23 123j 12.345\n",
      "The varaible type of belongs to <class 'str'>\n",
      "The varaible type of belongs to <class 'int'>\n",
      "The varaible type of belongs to <class 'complex'>\n",
      "The varaible type of belongs to <class 'float'>\n",
      "Variable x is String: True\n",
      "Variable y is String: True\n",
      "Variable z is String: True\n",
      "Variable q is String: True\n"
     ]
    }
   ],
   "source": [
    "#Str Text type\n",
    "x='python'\n",
    "# Numeric types int, float, complex\n",
    "y= 23\n",
    "z = 123j\n",
    "q = 12.345\n",
    "print(x,y,z,q)\n",
    "#type() function gives the type of value passed\n",
    "print(\"The varaible type of belongs to\",type(x))\n",
    "print(\"The varaible type of belongs to\",type(y))\n",
    "print(\"The varaible type of belongs to\",type(z))\n",
    "print(\"The varaible type of belongs to\",type(q))\n",
    "print(\"Variable x is String:\", isinstance(x,str))\n",
    "print(\"Variable y is String:\", isinstance(y,int))\n",
    "print(\"Variable z is String:\", isinstance(z,complex))\n",
    "print(\"Variable q is String:\", isinstance(q,float))\n"
   ]
  },
  {
   "cell_type": "markdown",
   "metadata": {},
   "source": []
  },
  {
   "cell_type": "code",
   "execution_count": 40,
   "metadata": {},
   "outputs": [
    {
     "name": "stdout",
     "output_type": "stream",
     "text": [
      "List of people in Python class: ['Chitra', 'Kireeti', 'Sureka', 'Sakthi']\n",
      "List of number; [1, 2, 3, 4, 5]\n",
      "<class 'list'>\n",
      "<class 'list'>\n"
     ]
    }
   ],
   "source": [
    "#sequence types List[] # Question How to add value to list , ordered sequence of items\n",
    "#list ex\n",
    "arrofnames = ['Chitra','Kireeti','Sureka','Sakthi']\n",
    "arrofnum =[1,2,3,4,5]\n",
    "print(\"List of people in Python class:\",arrofnames)\n",
    "print(\"List of number;\",arrofnum)\n",
    "print(type(arrofnames))\n",
    "print(type(arrofnum))"
   ]
  },
  {
   "cell_type": "code",
   "execution_count": 3,
   "metadata": {},
   "outputs": [
    {
     "name": "stdout",
     "output_type": "stream",
     "text": [
      "List of people in Python class: ('Chitra', 'Kireeti', 'Sureka', 'Sakthi')\n",
      "List of number; (1, 2, 3, 4, 5)\n",
      "<class 'tuple'>\n",
      "<class 'tuple'>\n",
      "List of people in Python class: {'name1': 'Chitra', 'name2': 'Kireeti', 'name3': 'Sureka', 'Age': '20'}\n",
      "<class 'dict'>\n",
      "('a', 100, 'b', 200, 'sureka')\n"
     ]
    }
   ],
   "source": [
    "#Sequence type Tuple() Immutable and ordered\n",
    "arrofnam = ('Chitra','Kireeti','Sureka','Sakthi')\n",
    "arrofnum =(1,2,3,4,5)\n",
    "print(\"List of people in Python class:\",arrofnam)\n",
    "print(\"List of number;\",arrofnum)\n",
    "print(type(arrofnam))\n",
    "print(type(arrofnum))\n",
    "\n",
    "#Sequence type Dict() unordered with keyword and value\n",
    "arrofname1 = {\"name1\":\"Chitra\",\"name2\":\"Kireeti\",\"name3\":\"Sureka\", \"Age\":\"20\"}\n",
    "print(\"List of people in Python class:\",arrofname1)\n",
    "print(type(arrofname1))\n",
    "\n",
    "# sets - unordered and unique\n",
    "\n",
    "arrofitems = (\"a\",100,\"b\",200,\"sureka\")\n",
    "type(arrofitems)\n",
    "print(arrofitems)\n",
    "\n"
   ]
  },
  {
   "cell_type": "code",
   "execution_count": 69,
   "metadata": {},
   "outputs": [
    {
     "name": "stdout",
     "output_type": "stream",
     "text": [
      "<class 'bool'>\n",
      "b'5'\n",
      "b'hello'\n",
      "bytearray(b'\\x00\\x00\\x00\\x00\\x00')\n",
      "<memory at 0x000002E453FAA400>\n"
     ]
    }
   ],
   "source": [
    "# Bool Question what is b\"Hello\"\n",
    "anum = 5\n",
    "aboolvalue = True\n",
    "h = b\"5\"\n",
    "text = b\"hello\"\n",
    "randomarray = 5\n",
    "memoryallocated = memoryview(bytes(5))\n",
    "print(type(aboolvalue))\n",
    "print(h)\n",
    "print(text)\n",
    "print(bytearray(randomarray))\n",
    "print(memoryview(bytes(200)))\n"
   ]
  },
  {
   "cell_type": "code",
   "execution_count": 101,
   "metadata": {},
   "outputs": [
    {
     "name": "stdout",
     "output_type": "stream",
     "text": [
      "['Chitra', 'Kireeti', 'Sureka', 'Sakthi']\n",
      "The sequence type is: <class 'list'>\n",
      "('Chitra', 'Kireeti', 'Sureka', 'Sakthi')\n",
      "The sequence type is: <class 'tuple'>\n",
      "{'name1': 'Chitra', 'name2': 'Kireeti', 'name3': 'Sureka', 'age': 20}\n",
      "The sequence type is: <class 'dict'>\n",
      "('Chitra', 'Kireeti', 'Sureka', 'Sakthi', 'Chitra', 'Kireeti', 'Sureka', 'Sakthi')\n",
      "('Chitra', 'Kireeti', 'Sureka', 'Sakthi', 'Chitra', 'Kireeti', 'Sureka', 'Sakthi', 'Chitra', 'Kireeti', 'Sureka', 'Sakthi', 'Chitra', 'Kireeti', 'Sureka', 'Sakthi', 'Chitra', 'Kireeti', 'Sureka', 'Sakthi')\n"
     ]
    }
   ],
   "source": [
    "#using the sequence keywords\n",
    "listofname = list(('Chitra','Kireeti','Sureka','Sakthi'))\n",
    "print(listofname)\n",
    "print(\"The sequence type is:\", type(listofname))\n",
    "\n",
    "listofnameT = tuple(['Chitra','Kireeti','Sureka','Sakthi'])\n",
    "print(listofnameT)\n",
    "print(\"The sequence type is:\", type(listofnameT))\n",
    "listofnameD = dict(name1=\"Chitra\",name2=\"Kireeti\", name3=\"Sureka\",age=20)\n",
    "print(listofnameD)\n",
    "print(\"The sequence type is:\", type(listofnameD))\n",
    "print(listofnameT+listofnameT)\n",
    "print(listofnameT*5)\n"
   ]
  },
  {
   "cell_type": "code",
   "execution_count": 108,
   "metadata": {},
   "outputs": [
    {
     "name": "stdout",
     "output_type": "stream",
     "text": [
      "List of people in Python class: {'name1': 'Chitra', 'name2': 'Kireeti', 'name3': 'Sureka', 'Age': '20'}\n",
      "dict_keys(['name1', 'name2', 'name3', 'Age'])\n",
      "dict_values(['Chitra', 'Kireeti', 'Sureka', '20'])\n",
      "Chitra\n"
     ]
    }
   ],
   "source": [
    "#Sequence type Dict()\n",
    "arrofname = {\"name1\":\"Chitra\",\"name2\":\"Kireeti\",\"name3\":\"Sureka\", \"Age\":\"20\"}\n",
    "print(\"List of people in Python class:\",arrofname)\n",
    "print(arrofname.keys())\n",
    "print(arrofname.values())\n",
    "print(arrofname[\"name1\"])"
   ]
  },
  {
   "cell_type": "code",
   "execution_count": 109,
   "metadata": {},
   "outputs": [
    {
     "name": "stdout",
     "output_type": "stream",
     "text": [
      "{3, 4, 'sureka', 5, 'swapna', 'keerthi'}\n",
      "<class 'set'>\n"
     ]
    }
   ],
   "source": [
    "#Set unordered data, unique, mutable\n",
    "arrofname = {\"sureka\",\"keerthi\",\"swapna\",3,4,5}\n",
    "print(arrofname)\n",
    "print(type(arrofname))"
   ]
  },
  {
   "cell_type": "code",
   "execution_count": 110,
   "metadata": {},
   "outputs": [
    {
     "name": "stdout",
     "output_type": "stream",
     "text": [
      "range(0, 10)\n"
     ]
    }
   ],
   "source": [
    "x =range(10)\n",
    "print(x)\n"
   ]
  },
  {
   "cell_type": "code",
   "execution_count": 117,
   "metadata": {},
   "outputs": [
    {
     "name": "stdout",
     "output_type": "stream",
     "text": [
      "<class 'set'>\n",
      "{3, 4, 'sureka', 5, 'swapna', 'keerthi'}\n",
      "{32, 3, 4, 'sureka', 5, 'swapna', 'keerthi'}\n",
      "{32, 'SAKTHI', 3, 4, 'sureka', 5, 'swapna', 'keerthi'}\n",
      "{32, 3, 4, 'sureka', 5, 'swapna', 'keerthi'}\n"
     ]
    }
   ],
   "source": [
    "arrofnames = {\"sureka\",\"keerthi\",\"swapna\",3,4,5,5}\n",
    "print(type(arrofnames))\n",
    "print(arrofnames)\n",
    "arrofnames.add(32)\n",
    "print(arrofnames)\n",
    "arrofnames.add(\"SAKTHI\")\n",
    "print(arrofnames)\n",
    "arrofnames.remove(\"SAKTHI\")\n",
    "print(arrofnames)"
   ]
  },
  {
   "cell_type": "code",
   "execution_count": null,
   "metadata": {},
   "outputs": [],
   "source": []
  }
 ],
 "metadata": {
  "kernelspec": {
   "display_name": "Python 3",
   "language": "python",
   "name": "python3"
  },
  "language_info": {
   "codemirror_mode": {
    "name": "ipython",
    "version": 3
   },
   "file_extension": ".py",
   "mimetype": "text/x-python",
   "name": "python",
   "nbconvert_exporter": "python",
   "pygments_lexer": "ipython3",
   "version": "3.8.3"
  }
 },
 "nbformat": 4,
 "nbformat_minor": 4
}
