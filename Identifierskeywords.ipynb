{
 "cells": [
  {
   "cell_type": "code",
   "execution_count": 21,
   "metadata": {},
   "outputs": [
    {
     "name": "stdout",
     "output_type": "stream",
     "text": [
      "[1, 2, 3, 4, 5, 6, 7, 8]\n",
      "[1, 2, 3, 4, 5, 1, 2, 3, 4, 5, 1, 2, 3, 4, 5, 1, 2, 3, 4, 5, 1, 2, 3, 4, 5]\n",
      "<class 'list'>\n",
      "(1, 2, 2, 2, 1, 2, 2, 2)\n",
      "<class 'tuple'>\n",
      "{1, 2, 4, 5, 'sureka', 'lit', 23}\n",
      "{32, 1, 2, 4, 5, 'sureka', 'lit', 23}\n"
     ]
    }
   ],
   "source": [
    "age3 = [1,2,3,4,5]\n",
    "age4 = [6,7,8]\n",
    "print(age3+age4)\n",
    "print(age3*5)\n",
    "print(type(age3))\n",
    "\n",
    "age1 = (1,2,2,2)\n",
    "print(age1*2)\n",
    "print(type(age1))\n",
    "\n",
    "age2 = {1,2,2,23,4,5,\"sureka\",\"lit\"}\n",
    "print(age2)\n",
    "age2.add(32)\n",
    "print(age2)"
   ]
  },
  {
   "cell_type": "code",
   "execution_count": 6,
   "metadata": {},
   "outputs": [
    {
     "name": "stdout",
     "output_type": "stream",
     "text": [
      "['False', 'None', 'True', 'and', 'as', 'assert', 'async', 'await', 'break', 'class', 'continue', 'def', 'del', 'elif', 'else', 'except', 'finally', 'for', 'from', 'global', 'if', 'import', 'in', 'is', 'lambda', 'nonlocal', 'not', 'or', 'pass', 'raise', 'return', 'try', 'while', 'with', 'yield']\n",
      "['False', 'None', 'True', 'and', 'as', 'assert', 'async', 'await', 'break', 'class', 'continue', 'def', 'del', 'elif', 'else', 'except', 'finally', 'for', 'from', 'global', 'if', 'import', 'in', 'is', 'lambda', 'nonlocal', 'not', 'or', 'pass', 'raise', 'return', 'try', 'while', 'with', 'yield']\n"
     ]
    }
   ],
   "source": [
    "#identifiers\n",
    "import keyword\n",
    "print(keyword.kwlist)\n",
    "import keyword as keys\n",
    "print(keys.kwlist)\n"
   ]
  },
  {
   "cell_type": "code",
   "execution_count": 5,
   "metadata": {},
   "outputs": [
    {
     "name": "stdout",
     "output_type": "stream",
     "text": [
      "3\n",
      "9 10\n",
      "200\n"
     ]
    }
   ],
   "source": [
    "#identifiers case sesitive, meaningful and do not start with num or special charaters, cannot use any keywords\n",
    "global1 = 3\n",
    "print(global1)\n",
    "number = 9\n",
    "Number = 10\n",
    "print(number,Number)\n",
    "this_is_a_number = 200\n",
    "print(this_is_a_number)"
   ]
  },
  {
   "cell_type": "code",
   "execution_count": 13,
   "metadata": {},
   "outputs": [
    {
     "name": "stdout",
     "output_type": "stream",
     "text": [
      "1.0\n"
     ]
    }
   ],
   "source": [
    "a=4\n",
    "b=4\n",
    "try:\n",
    "    print(a/b)\n",
    "except:\n",
    "    print(\"enter valid numbers\")"
   ]
  },
  {
   "cell_type": "code",
   "execution_count": 15,
   "metadata": {},
   "outputs": [
    {
     "name": "stdout",
     "output_type": "stream",
     "text": [
      "<module 'keyword' from 'G:\\\\Anaconda\\\\lib\\\\keyword.py'>\n"
     ]
    }
   ],
   "source": [
    "from keyword import *\n",
    "print(keyword)"
   ]
  },
  {
   "cell_type": "code",
   "execution_count": 26,
   "metadata": {},
   "outputs": [
    {
     "name": "stdout",
     "output_type": "stream",
     "text": [
      "<class 'list'>\n",
      "True\n",
      "False\n",
      "True\n"
     ]
    }
   ],
   "source": [
    "arrofnum=[12,34,23,100,3243,1232,123213]\n",
    "print(type(arrofnum))\n",
    "print(100 in arrofnum)\n",
    "print(200 in arrofnum)\n",
    "print(2 not in arrofnum)"
   ]
  },
  {
   "cell_type": "code",
   "execution_count": 31,
   "metadata": {},
   "outputs": [
    {
     "name": "stdout",
     "output_type": "stream",
     "text": [
      "<memory at 0x000001A244E1D700>\n",
      "<memory at 0x000001A244E1D700>\n",
      "True\n",
      "True\n"
     ]
    }
   ],
   "source": [
    "a=5\n",
    "b=5\n",
    "print(memoryview(bytes(a)))\n",
    "print(memoryview(bytes(b)))\n",
    "print(a is b)\n",
    "print(a==b)\n"
   ]
  },
  {
   "cell_type": "code",
   "execution_count": 40,
   "metadata": {},
   "outputs": [],
   "source": [
    "def multiply():\n",
    "    a=1\n",
    "    b=3\n",
    "    print(a*b)\n",
    "    "
   ]
  },
  {
   "cell_type": "code",
   "execution_count": 44,
   "metadata": {},
   "outputs": [
    {
     "name": "stdout",
     "output_type": "stream",
     "text": [
      "3\n"
     ]
    }
   ],
   "source": [
    "multiply()"
   ]
  },
  {
   "cell_type": "code",
   "execution_count": 45,
   "metadata": {},
   "outputs": [
    {
     "name": "stdout",
     "output_type": "stream",
     "text": [
      "<memory at 0x000001A244E1D640>\n",
      "<memory at 0x000001A244E1D640>\n",
      "140715311445920\n",
      "140715311445920\n"
     ]
    }
   ],
   "source": [
    "a=5\n",
    "b=5\n",
    "print(memoryview(bytes(a)))\n",
    "print(memoryview(bytes(b)))\n",
    "print(id(a))\n",
    "print(id(b))"
   ]
  },
  {
   "cell_type": "code",
   "execution_count": 47,
   "metadata": {},
   "outputs": [
    {
     "name": "stdout",
     "output_type": "stream",
     "text": [
      "sureka sureka sureka\n",
      "1796452200368\n",
      "1796452200368\n",
      "1796452200368\n"
     ]
    }
   ],
   "source": [
    "x=y=z=\"sureka\"  #single values to multiple variables\n",
    "print(x,y,z)\n",
    "print(id(x))\n",
    "print(id(y))\n",
    "print(id(z))"
   ]
  },
  {
   "cell_type": "code",
   "execution_count": 52,
   "metadata": {},
   "outputs": [
    {
     "name": "stdout",
     "output_type": "stream",
     "text": [
      "1 2 3\n",
      "140715311445792\n",
      "140715311445824\n",
      "140715311445856\n",
      "1\n",
      "2\n",
      "3\n"
     ]
    }
   ],
   "source": [
    "x,y,z =1,2,3 # multiple values to multiple variables in a single line\n",
    "\n",
    "print(x,y,z)\n",
    "print(id(x))\n",
    "print(id(y))\n",
    "print(id(z))\n",
    "print(x)\n",
    "print(y)\n",
    "print(z)\n"
   ]
  },
  {
   "cell_type": "code",
   "execution_count": 57,
   "metadata": {},
   "outputs": [
    {
     "name": "stdout",
     "output_type": "stream",
     "text": [
      "['False', 'None', 'True', 'and', 'as', 'assert', 'async', 'await', 'break', 'class', 'continue', 'def', 'del', 'elif', 'else', 'except', 'finally', 'for', 'from', 'global', 'if', 'import', 'in', 'is', 'lambda', 'nonlocal', 'not', 'or', 'pass', 'raise', 'return', 'try', 'while', 'with', 'yield']\n"
     ]
    }
   ],
   "source": [
    "import keyword as key\n",
    "print(key.kwlist)"
   ]
  },
  {
   "cell_type": "code",
   "execution_count": 59,
   "metadata": {},
   "outputs": [
    {
     "name": "stdout",
     "output_type": "stream",
     "text": [
      "A+B is: 15\n",
      "50\n"
     ]
    }
   ],
   "source": [
    "# single and Multiline comments \n",
    "\n",
    "a= 5\n",
    "b= 10\n",
    "#Add and print value\n",
    "print(\"A+B is:\", a+b)\n",
    "\n",
    "''' I am trying to write\n",
    "multiple lines and see if it works as expects\n",
    "pleae cheeck'''\n",
    "print(a*b)"
   ]
  },
  {
   "cell_type": "code",
   "execution_count": null,
   "metadata": {},
   "outputs": [],
   "source": []
  }
 ],
 "metadata": {
  "kernelspec": {
   "display_name": "Python 3",
   "language": "python",
   "name": "python3"
  },
  "language_info": {
   "codemirror_mode": {
    "name": "ipython",
    "version": 3
   },
   "file_extension": ".py",
   "mimetype": "text/x-python",
   "name": "python",
   "nbconvert_exporter": "python",
   "pygments_lexer": "ipython3",
   "version": "3.8.3"
  }
 },
 "nbformat": 4,
 "nbformat_minor": 4
}
